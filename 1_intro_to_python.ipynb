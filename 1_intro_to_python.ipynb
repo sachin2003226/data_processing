{
  "nbformat": 4,
  "nbformat_minor": 0,
  "metadata": {
    "colab": {
      "provenance": [],
      "authorship_tag": "ABX9TyPdLjFVhdEuG47FCKuQFlQL",
      "include_colab_link": true
    },
    "kernelspec": {
      "name": "python3",
      "display_name": "Python 3"
    },
    "language_info": {
      "name": "python"
    }
  },
  "cells": [
    {
      "cell_type": "markdown",
      "metadata": {
        "id": "view-in-github",
        "colab_type": "text"
      },
      "source": [
        "<a href=\"https://colab.research.google.com/github/sachin2003226/data_processing/blob/main/1_intro_to_python.ipynb\" target=\"_parent\"><img src=\"https://colab.research.google.com/assets/colab-badge.svg\" alt=\"Open In Colab\"/></a>"
      ]
    },
    {
      "cell_type": "code",
      "source": [
        "x = 4\n",
        "print(x, type(x))\n",
        "\n",
        "y = True\n",
        "print(y, type(y))\n",
        "\n",
        "x = True\n",
        "#x = 'c'\n",
        "x = \"this\"\n",
        "#x = 'this'\n",
        "print(x, type(x))\n",
        "\n",
        "z = 3.7\n",
        "print(z, type(z))\n",
        "\n",
        "s = \"This is a string\"\n",
        "print(s, type(s))"
      ],
      "metadata": {
        "colab": {
          "base_uri": "https://localhost:8080/",
          "height": 0
        },
        "id": "XVT7fR0h7F5d",
        "outputId": "f3a7a616-edf4-430b-9bc7-4b5a53407ba5"
      },
      "execution_count": 1,
      "outputs": [
        {
          "output_type": "stream",
          "name": "stdout",
          "text": [
            "4 <class 'int'>\n",
            "True <class 'bool'>\n",
            "this <class 'str'>\n",
            "3.7 <class 'float'>\n",
            "This is a string <class 'str'>\n"
          ]
        }
      ]
    },
    {
      "cell_type": "code",
      "execution_count": 2,
      "metadata": {
        "colab": {
          "base_uri": "https://localhost:8080/",
          "height": 0
        },
        "id": "odREO4_D6sG_",
        "outputId": "e54f105c-4d69-4667-daee-f39e9683f062"
      },
      "outputs": [
        {
          "output_type": "stream",
          "name": "stdout",
          "text": [
            "18 8 12 6 18 2\n",
            "3.7 1.7000000000000002 1.2333333333333334 1.0 13.690000000000001\n",
            "3.7 13.690000000000001 4 3\n"
          ]
        }
      ],
      "source": [
        "x = 4\n",
        "x1 = x + 4\n",
        "x2 = x * 3\n",
        "x += 2\n",
        "x3 = x\n",
        "x *= 3\n",
        "x4 = x\n",
        "x5 = x % 4\n",
        "z = 3.7\n",
        "z1 = z - 2\n",
        "z2 = z / 3\n",
        "z3 = z // 3\n",
        "z4 = z ** 2\n",
        "z5 = z4 ** 0.5\n",
        "z6 = pow(z,2)\n",
        "z7 = round(z)\n",
        "z8 = int(z)\n",
        "print(x,x1,x2,x3,x4,x5)\n",
        "print(z,z1,z2,z3,z4)\n",
        "print(z5,z6,z7,z8)"
      ]
    },
    {
      "cell_type": "code",
      "source": [
        "import math\n",
        "\n",
        "x = 4\n",
        "print(math.sqrt(x))\n",
        "print(math.pow(x, 2))\n",
        "print(math.exp(x))\n",
        "print(math.log(x, 2))\n",
        "print(math.fabs(-4))\n",
        "print(math.factorial(x))\n",
        "\n",
        "z = 0.2\n",
        "print(math.ceil(z))\n",
        "print(math.floor(z))\n",
        "print(math.trunc(z))\n",
        "\n",
        "z = 3 * math.pi\n",
        "print(math.sin(z))\n",
        "print(math.tanh(z))\n",
        "\n",
        "x = math.nan\n",
        "print(math.isnan(x))\n",
        "\n",
        "x = math.inf\n",
        "print(math.isinf(x))"
      ],
      "metadata": {
        "colab": {
          "base_uri": "https://localhost:8080/",
          "height": 0
        },
        "id": "FYkNfZj27uXv",
        "outputId": "40373d50-8b67-4ff2-8544-f6698878519d"
      },
      "execution_count": 3,
      "outputs": [
        {
          "output_type": "stream",
          "name": "stdout",
          "text": [
            "2.0\n",
            "16.0\n",
            "54.598150033144236\n",
            "2.0\n",
            "4.0\n",
            "24\n",
            "1\n",
            "0\n",
            "0\n",
            "3.6739403974420594e-16\n",
            "0.9999999869751758\n",
            "True\n",
            "True\n"
          ]
        }
      ]
    },
    {
      "cell_type": "code",
      "source": [
        "y1 = True\n",
        "y2 = False\n",
        "\n",
        "print(y1 and y2)\n",
        "print(y1 or y2)\n",
        "print(y1 and not y2)"
      ],
      "metadata": {
        "colab": {
          "base_uri": "https://localhost:8080/",
          "height": 0
        },
        "id": "Txk63Ruz73z9",
        "outputId": "6745075c-063a-440a-853f-b59e580cf1ac"
      },
      "execution_count": 4,
      "outputs": [
        {
          "output_type": "stream",
          "name": "stdout",
          "text": [
            "False\n",
            "True\n",
            "True\n"
          ]
        }
      ]
    },
    {
      "cell_type": "code",
      "source": [
        "s1 = \"This\"\n",
        "print(s1[1:])\n",
        "print(len(s1))\n",
        "print(\"Length of string is \" + str(len(s1)))\n",
        "print(s1.upper())\n",
        "print(s1.lower())\n",
        "\n",
        "s2 = \"This is a string\"\n",
        "words = s2.split(' ')\n",
        "print(words[0])\n",
        "print(s2.replace('a', 'another'))\n",
        "print(s2.replace('is', 'at'))\n",
        "print(s2.find(\"a\"))\n",
        "print(s1 in s2)\n",
        "print(s1 == 'This')\n",
        "print(s1 < 'That')\n",
        "print(s2 + \" too\")\n",
        "print((s1 + \" \")* 3)"
      ],
      "metadata": {
        "colab": {
          "base_uri": "https://localhost:8080/",
          "height": 0
        },
        "id": "JiphdnSi8l5_",
        "outputId": "1f510786-91db-4d94-eb0b-b0b2068f1550"
      },
      "execution_count": 5,
      "outputs": [
        {
          "output_type": "stream",
          "name": "stdout",
          "text": [
            "his\n",
            "4\n",
            "Length of string is 4\n",
            "THIS\n",
            "this\n",
            "This\n",
            "This is another string\n",
            "That at a string\n",
            "8\n",
            "True\n",
            "True\n",
            "False\n",
            "This is a string too\n",
            "This This This \n"
          ]
        }
      ]
    },
    {
      "cell_type": "code",
      "source": [
        "intlist = [1, 3, 5, 7, 9]\n",
        "print(type(intlist))\n",
        "print(intlist)\n",
        "intlist2 = list(range(0,10,2))\n",
        "print(intlist2)\n",
        "print(intlist[2])\n",
        "print(intlist[:2])\n",
        "print(intlist[2:])\n",
        "print(len(intlist))\n",
        "print(sum(intlist))\n",
        "intlist.append(11)\n",
        "print(intlist)\n",
        "print(intlist.pop())\n",
        "print(intlist)\n",
        "print(intlist + [11,13,15])\n",
        "print(intlist * 3)\n",
        "intlist.insert(2,4)\n",
        "print(intlist)\n",
        "intlist.sort(reverse=True)\n",
        "print(intlist)"
      ],
      "metadata": {
        "colab": {
          "base_uri": "https://localhost:8080/",
          "height": 0
        },
        "id": "6u-H1RT380Ws",
        "outputId": "de953b78-e8d6-4b0f-df00-fe8e8cd31598"
      },
      "execution_count": 7,
      "outputs": [
        {
          "output_type": "stream",
          "name": "stdout",
          "text": [
            "<class 'list'>\n",
            "[1, 3, 5, 7, 9]\n",
            "[0, 2, 4, 6, 8]\n",
            "5\n",
            "[1, 3]\n",
            "[5, 7, 9]\n",
            "5\n",
            "25\n",
            "[1, 3, 5, 7, 9, 11]\n",
            "11\n",
            "[1, 3, 5, 7, 9]\n",
            "[1, 3, 5, 7, 9, 11, 13, 15]\n",
            "[1, 3, 5, 7, 9, 1, 3, 5, 7, 9, 1, 3, 5, 7, 9]\n",
            "[1, 3, 4, 5, 7, 9]\n",
            "[9, 7, 5, 4, 3, 1]\n"
          ]
        }
      ]
    },
    {
      "cell_type": "code",
      "source": [
        "mylist = ['this', 'is', 'a', 'list']\n",
        "print(mylist)\n",
        "print(type(mylist))\n",
        "print(\"list\" in mylist)\n",
        "print(mylist[2])\n",
        "print(mylist[:2])\n",
        "print(mylist[2:])\n",
        "mylist.append(\"too\")\n",
        "separator = \" \"\n",
        "print(separator.join(mylist))\n",
        "mylist.remove(\"is\")\n",
        "print(mylist)"
      ],
      "metadata": {
        "colab": {
          "base_uri": "https://localhost:8080/",
          "height": 0
        },
        "id": "koDovfUy9Hwa",
        "outputId": "6f025ea8-a3c9-4dea-c899-64dd60b5b395"
      },
      "execution_count": 8,
      "outputs": [
        {
          "output_type": "stream",
          "name": "stdout",
          "text": [
            "['this', 'is', 'a', 'list']\n",
            "<class 'list'>\n",
            "True\n",
            "a\n",
            "['this', 'is']\n",
            "['a', 'list']\n",
            "this is a list too\n",
            "['this', 'a', 'list', 'too']\n"
          ]
        }
      ]
    },
    {
      "cell_type": "code",
      "source": [
        "abbrev = {}\n",
        "abbrev['MI'] = \"Michigan\"\n",
        "abbrev['MN'] = \"Minnesota\"\n",
        "abbrev['TX'] = \"Texas\"\n",
        "abbrev['CA'] = \"California\"\n",
        "print(abbrev)\n",
        "print(abbrev.keys())\n",
        "print(abbrev.values())\n",
        "print(len(abbrev))\n",
        "print(abbrev.get('MI'))\n",
        "print(\"FL\" in abbrev)\n",
        "print(\"CA\" in abbrev)\n",
        "keys = ['apples', 'oranges', 'bananas', 'cherries']\n",
        "values = [3, 4, 2, 10]\n",
        "fruits = dict(zip(keys, values))\n",
        "print(fruits)\n",
        "print(sorted(fruits))\n",
        "from operator import itemgetter\n",
        "print(sorted(fruits.items(), key=itemgetter(0)))\n",
        "print(sorted(fruits.items(), key=itemgetter(1)))"
      ],
      "metadata": {
        "colab": {
          "base_uri": "https://localhost:8080/",
          "height": 0
        },
        "id": "KrCPW4Ck9NjX",
        "outputId": "56133fcc-de80-4ed3-858c-a010a606f606"
      },
      "execution_count": 9,
      "outputs": [
        {
          "output_type": "stream",
          "name": "stdout",
          "text": [
            "{'MI': 'Michigan', 'MN': 'Minnesota', 'TX': 'Texas', 'CA': 'California'}\n",
            "dict_keys(['MI', 'MN', 'TX', 'CA'])\n",
            "dict_values(['Michigan', 'Minnesota', 'Texas', 'California'])\n",
            "4\n",
            "Michigan\n",
            "False\n",
            "True\n",
            "{'apples': 3, 'oranges': 4, 'bananas': 2, 'cherries': 10}\n",
            "['apples', 'bananas', 'cherries', 'oranges']\n",
            "[('apples', 3), ('bananas', 2), ('cherries', 10), ('oranges', 4)]\n",
            "[('bananas', 2), ('apples', 3), ('oranges', 4), ('cherries', 10)]\n"
          ]
        }
      ]
    },
    {
      "cell_type": "code",
      "source": [
        "MItuple = ('MI', 'Michigan', 'Lansing')\n",
        "CAtuple = ('CA', 'California', 'Sacramento')\n",
        "TXtuple = ('TX', 'Texas', 'Austin')\n",
        "print(MItuple)\n",
        "print(MItuple[1:])\n",
        "states = [MItuple, CAtuple, TXtuple]\n",
        "print(states)\n",
        "print(states[2])\n",
        "print(states[2][:])\n",
        "print(states[2][1:])\n",
        "states.sort(key=lambda state: state[2])\n",
        "print(states)"
      ],
      "metadata": {
        "colab": {
          "base_uri": "https://localhost:8080/",
          "height": 0
        },
        "id": "2Lqf3_MC9Va3",
        "outputId": "80d2d26d-77a2-4879-84df-1ad9002f4864"
      },
      "execution_count": 10,
      "outputs": [
        {
          "output_type": "stream",
          "name": "stdout",
          "text": [
            "('MI', 'Michigan', 'Lansing')\n",
            "('Michigan', 'Lansing')\n",
            "[('MI', 'Michigan', 'Lansing'), ('CA', 'California', 'Sacramento'), ('TX', 'Texas', 'Austin')]\n",
            "('TX', 'Texas', 'Austin')\n",
            "('TX', 'Texas', 'Austin')\n",
            "('Texas', 'Austin')\n",
            "[('TX', 'Texas', 'Austin'), ('MI', 'Michigan', 'Lansing'), ('CA', 'California', 'Sacramento')]\n"
          ]
        }
      ]
    },
    {
      "cell_type": "code",
      "source": [
        "\n",
        "x = 10\n",
        "if x % 2 == 0:\n",
        "  print(\"x =\", x, \"is even\")\n",
        "else:\n",
        "  print(\"x =\", x, \"is odd\")\n",
        "if x > 0:\n",
        "  print(\"x =\", x, \"is positive\")\n",
        "elif x < 0:\n",
        "  print(\"x =\", x, \"is negative\")\n",
        "else:\n",
        "  print(\"x =\", x, \"is neither positive nor negative\")"
      ],
      "metadata": {
        "colab": {
          "base_uri": "https://localhost:8080/",
          "height": 0
        },
        "id": "Nix-Dy_79ctY",
        "outputId": "10129ee3-e31b-4b55-9ebd-229ecba9677d"
      },
      "execution_count": 12,
      "outputs": [
        {
          "output_type": "stream",
          "name": "stdout",
          "text": [
            "x = 10 is even\n",
            "x = 10 is positive\n"
          ]
        }
      ]
    },
    {
      "cell_type": "code",
      "source": [
        "mylist = ['this', 'is', 'a', 'list']\n",
        "for word in mylist:\n",
        "  print(word.replace(\"is\", \"at\"))\n",
        "\n",
        "mylist2 = [len(word) for word in mylist]\n",
        "print(mylist2)\n",
        "\n",
        "states = [('MI', 'Michigan', 'Lansing'),('CA', 'California', 'Sacramento'),\n",
        "('TX', 'Texas', 'Austin')]\n",
        "sorted_capitals = [state[2] for state in states]\n",
        "sorted_capitals.sort()\n",
        "print(sorted_capitals)\n",
        "\n",
        "fruits = {'apples': 3, 'oranges': 4, 'bananas': 2, 'cherries': 10}\n",
        "fruitnames = [k for (k,v) in fruits.items()]\n",
        "print(fruitnames)"
      ],
      "metadata": {
        "colab": {
          "base_uri": "https://localhost:8080/",
          "height": 0
        },
        "id": "6QTUA38a9mio",
        "outputId": "30dfa123-054d-4f81-cfee-c576f6bf5e04"
      },
      "execution_count": 13,
      "outputs": [
        {
          "output_type": "stream",
          "name": "stdout",
          "text": [
            "that\n",
            "at\n",
            "a\n",
            "latt\n",
            "[4, 2, 1, 4]\n",
            "['Austin', 'Lansing', 'Sacramento']\n",
            "['apples', 'oranges', 'bananas', 'cherries']\n"
          ]
        }
      ]
    },
    {
      "cell_type": "code",
      "source": [
        "\n",
        "mylist = list(range(-10,10))\n",
        "print(mylist)\n",
        "i = 0\n",
        "while (mylist[i] < 0):\n",
        "  i = i + 1\n",
        "print(\"First non-negative number:\", mylist[i])"
      ],
      "metadata": {
        "colab": {
          "base_uri": "https://localhost:8080/",
          "height": 0
        },
        "id": "9XbBcOi192rE",
        "outputId": "1c92e6df-abf6-4669-d1f8-d44d7cdff16e"
      },
      "execution_count": 16,
      "outputs": [
        {
          "output_type": "stream",
          "name": "stdout",
          "text": [
            "[-10, -9, -8, -7, -6, -5, -4, -3, -2, -1, 0, 1, 2, 3, 4, 5, 6, 7, 8, 9]\n",
            "First non-negative number: 0\n"
          ]
        }
      ]
    },
    {
      "cell_type": "code",
      "source": [
        "myfunc = lambda x: 3*x**2 - 2*x + 3\n",
        "\n",
        "print(myfunc(2))"
      ],
      "metadata": {
        "colab": {
          "base_uri": "https://localhost:8080/",
          "height": 0
        },
        "id": "ikwQTNYa-AlN",
        "outputId": "5a639d75-4854-4ab2-8694-751b385de1fe"
      },
      "execution_count": 17,
      "outputs": [
        {
          "output_type": "stream",
          "name": "stdout",
          "text": [
            "11\n"
          ]
        }
      ]
    },
    {
      "cell_type": "code",
      "source": [
        "import math\n",
        "\n",
        "def discard(inlist, sortFlag=False):\n",
        "  outlist = []\n",
        "  for item in inlist:\n",
        "    if not math.isnan(item):\n",
        "      outlist.append(item)\n",
        "  if sortFlag:\n",
        "    outlist.sort()\n",
        "  return outlist\n",
        "# default value for sortFlag is False\n",
        "mylist = [12, math.nan, 23, -11, 45, math.nan, 71]\n",
        "print(discard(mylist,True))"
      ],
      "metadata": {
        "colab": {
          "base_uri": "https://localhost:8080/",
          "height": 0
        },
        "id": "YoSFxmOM-Ggx",
        "outputId": "e2a804c3-37de-4ec6-af39-0691ac15e160"
      },
      "execution_count": 19,
      "outputs": [
        {
          "output_type": "stream",
          "name": "stdout",
          "text": [
            "[-11, 12, 23, 45, 71]\n"
          ]
        }
      ]
    },
    {
      "cell_type": "code",
      "source": [
        "states = [('MI', 'Michigan', 'Lansing'),('CA', 'California', 'Sacramento'),\n",
        "          ('TX', 'Texas', 'Austin'), ('MN', 'Minnesota', 'St Paul')]\n",
        "\n",
        "with open('states.txt', 'w') as f:\n",
        "  f.write('\\n'.join('%s,%s,%s' % state for state in states))\n",
        "\n",
        "with open('states.txt', 'r') as f:\n",
        "  for line in f:\n",
        "    fields = line.split(sep=',')\n",
        "    print('State=',fields[1],'(',fields[0],')','Capital:', fields[2])"
      ],
      "metadata": {
        "colab": {
          "base_uri": "https://localhost:8080/",
          "height": 0
        },
        "id": "xvSvIdHG-j1e",
        "outputId": "a431cc45-e024-4a6a-d592-a51f7b8d8d8d"
      },
      "execution_count": 23,
      "outputs": [
        {
          "output_type": "stream",
          "name": "stdout",
          "text": [
            "State= Michigan ( MI ) Capital: Lansing\n",
            "\n",
            "State= California ( CA ) Capital: Sacramento\n",
            "\n",
            "State= Texas ( TX ) Capital: Austin\n",
            "\n",
            "State= Minnesota ( MN ) Capital: St Paul\n"
          ]
        }
      ]
    }
  ]
}